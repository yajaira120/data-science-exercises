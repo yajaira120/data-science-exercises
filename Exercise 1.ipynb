{
 "cells": [
  {
   "cell_type": "markdown",
   "id": "fd7440dc-8732-48ce-a8f0-b6258e51277a",
   "metadata": {},
   "source": [
    "# Exercise 1\n",
    "- The notebook is used for calculating the factorial of a number."
   ]
  },
  {
   "cell_type": "markdown",
   "id": "7814d4e2-a3aa-4b52-8d64-e278efbf399c",
   "metadata": {},
   "source": [
    "The factorial function works by defining a function that will be given a number and if the number is 0 it will return a 1. If the number is not 0, then it will return the number multiplied by the recursion of n-1. The recursion is used to find the factorial of the number given. "
   ]
  },
  {
   "cell_type": "code",
   "execution_count": 3,
   "id": "0fd22fb3-9879-4a4e-be31-902541d9912a",
   "metadata": {},
   "outputs": [],
   "source": [
    "def factorial(n):\n",
    "    if n == 0:\n",
    "        return 1\n",
    "    else:\n",
    "        return n * factorial(n-1)"
   ]
  },
  {
   "cell_type": "code",
   "execution_count": 9,
   "id": "a69ef033-f0d9-448f-b0f9-563d78bc05ce",
   "metadata": {},
   "outputs": [
    {
     "data": {
      "text/plain": [
       "6"
      ]
     },
     "execution_count": 9,
     "metadata": {},
     "output_type": "execute_result"
    }
   ],
   "source": [
    "factorial(3)"
   ]
  }
 ],
 "metadata": {
  "kernelspec": {
   "display_name": "Python 3 (ipykernel)",
   "language": "python",
   "name": "python3"
  },
  "language_info": {
   "codemirror_mode": {
    "name": "ipython",
    "version": 3
   },
   "file_extension": ".py",
   "mimetype": "text/x-python",
   "name": "python",
   "nbconvert_exporter": "python",
   "pygments_lexer": "ipython3",
   "version": "3.12.4"
  }
 },
 "nbformat": 4,
 "nbformat_minor": 5
}
